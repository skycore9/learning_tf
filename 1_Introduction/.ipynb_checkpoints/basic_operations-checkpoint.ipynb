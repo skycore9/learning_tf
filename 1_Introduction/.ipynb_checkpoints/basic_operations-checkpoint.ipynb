{
 "cells": [
  {
   "cell_type": "code",
   "execution_count": 4,
   "metadata": {},
   "outputs": [
    {
     "name": "stdout",
     "output_type": "stream",
     "text": [
      "('a = 3', 'b = 4')\n",
      "Addition operator 7\n",
      "Multiplication with constants 12\n"
     ]
    }
   ],
   "source": [
    "import tensorflow as tf\n",
    "\n",
    "a = tf.constant(3)\n",
    "b = tf.constant(4)\n",
    "\n",
    "with tf.Session() as sess:\n",
    "    print('a = %d' % sess.run(a), 'b = %d' % sess.run(b))\n",
    "    print('Addition operator %d' % sess.run(a+b))\n",
    "    print('Multiplication with constants %d' % sess.run(a*b))"
   ]
  },
  {
   "cell_type": "code",
   "execution_count": 8,
   "metadata": {},
   "outputs": [
    {
     "name": "stdout",
     "output_type": "stream",
     "text": [
      "Addition with placeholder: 30\n",
      "Multiplication with placeholder: 200\n"
     ]
    }
   ],
   "source": [
    "x = tf.placeholder(tf.int16)\n",
    "y = tf.placeholder(tf.int16)\n",
    "\n",
    "add = tf.add(x, y)\n",
    "mul = tf.multiply(x, y)\n",
    "with tf.Session() as sess:\n",
    "    print('Addition with placeholder: %d' % sess.run(add, feed_dict={x:10, y:20}))\n",
    "    print('Multiplication with placeholder: %d' % sess.run(mul, feed_dict={x:10, y:20}))"
   ]
  },
  {
   "cell_type": "code",
   "execution_count": 17,
   "metadata": {},
   "outputs": [
    {
     "name": "stdout",
     "output_type": "stream",
     "text": [
      "(1, 2)\n",
      "(2, 1)\n",
      "[[ 25.]]\n"
     ]
    }
   ],
   "source": [
    "matrix1 = tf.constant([[3.0, 4.0]])\n",
    "print(matrix1.shape)\n",
    "matrix2 = tf.constant([[3.0], [4.0]])\n",
    "print(matrix2.shape)\n",
    "\n",
    "matrix = tf.matmul(matrix1, matrix2)\n",
    "\n",
    "with tf.Session() as sess:\n",
    "    print(sess.run(matrix))"
   ]
  },
  {
   "cell_type": "code",
   "execution_count": null,
   "metadata": {},
   "outputs": [],
   "source": []
  }
 ],
 "metadata": {
  "kernelspec": {
   "display_name": "Python 3",
   "language": "python",
   "name": "python3"
  },
  "language_info": {
   "codemirror_mode": {
    "name": "ipython",
    "version": 2
   },
   "file_extension": ".py",
   "mimetype": "text/x-python",
   "name": "python",
   "nbconvert_exporter": "python",
   "pygments_lexer": "ipython2",
   "version": "2.7.14"
  }
 },
 "nbformat": 4,
 "nbformat_minor": 2
}
