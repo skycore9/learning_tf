{
 "cells": [
  {
   "cell_type": "code",
   "execution_count": 30,
   "metadata": {},
   "outputs": [
    {
     "name": "stdout",
     "output_type": "stream",
     "text": [
      "Extracting /tmp/data/train-images-idx3-ubyte.gz\n",
      "Extracting /tmp/data/train-labels-idx1-ubyte.gz\n",
      "Extracting /tmp/data/t10k-images-idx3-ubyte.gz\n",
      "Extracting /tmp/data/t10k-labels-idx1-ubyte.gz\n"
     ]
    }
   ],
   "source": [
    "import tensorflow as tf\n",
    "from tensorflow.examples.tutorials.mnist import input_data\n",
    "\n",
    "mnist = input_data.read_data_sets('/tmp/data/', one_hot=True)"
   ]
  },
  {
   "cell_type": "code",
   "execution_count": 31,
   "metadata": {},
   "outputs": [
    {
     "name": "stdout",
     "output_type": "stream",
     "text": [
      "(55000, 784)\n",
      "(55000, 10)\n",
      "(10000, 784)\n",
      "(10000, 10)\n"
     ]
    }
   ],
   "source": [
    "print(mnist.train.images.shape)\n",
    "print(mnist.train.labels.shape)\n",
    "print(mnist.test.images.shape)\n",
    "print(mnist.test.labels.shape)"
   ]
  },
  {
   "cell_type": "code",
   "execution_count": 33,
   "metadata": {},
   "outputs": [],
   "source": [
    "# parameters \n",
    "learning_rate = 0.01\n",
    "training_epochs = 100\n",
    "batch_size = 100\n",
    "display_step = 1\n",
    "\n",
    "X = tf.placeholder(tf.float32, [None, 784])\n",
    "y = tf.placeholder(tf.float32, [None, 10])\n",
    "\n",
    "# weights and baises\n",
    "W = tf.Variable(tf.zeros([784, 10]))\n",
    "b = tf.Variable(tf.zeros([10]))\n",
    "\n",
    "# pred\n",
    "pred = tf.nn.softmax(tf.matmul(X, W) + b)\n",
    "\n",
    "# loss\n",
    "cost = tf.reduce_mean(-tf.reduce_sum(y * tf.log(pred), reduction_indices=1))\n",
    "\n",
    "# optimizer\n",
    "optimizer = tf.train.GradientDescentOptimizer(learning_rate=learning_rate).minimize(cost)\n",
    "\n",
    "# init\n",
    "init = tf.global_variables_initializer()"
   ]
  },
  {
   "cell_type": "code",
   "execution_count": 34,
   "metadata": {},
   "outputs": [
    {
     "name": "stdout",
     "output_type": "stream",
     "text": [
      "('Epoch 0001', 'Cost 6.507791014')\n",
      "('Epoch 0002', 'Cost 3.657643485')\n",
      "('Epoch 0003', 'Cost 3.039791493')\n",
      "('Epoch 0004', 'Cost 2.742757937')\n",
      "('Epoch 0005', 'Cost 2.560248023')\n",
      "('Epoch 0006', 'Cost 2.434163661')\n",
      "('Epoch 0007', 'Cost 2.340446297')\n",
      "('Epoch 0008', 'Cost 2.267008465')\n",
      "('Epoch 0009', 'Cost 2.207870865')\n",
      "('Epoch 0010', 'Cost 2.158088904')\n",
      "('Epoch 0011', 'Cost 2.116103405')\n",
      "('Epoch 0012', 'Cost 2.080037976')\n",
      "('Epoch 0013', 'Cost 2.048086209')\n",
      "('Epoch 0014', 'Cost 2.020101805')\n",
      "('Epoch 0015', 'Cost 1.995022499')\n",
      "('Epoch 0016', 'Cost 1.972423217')\n",
      "('Epoch 0017', 'Cost 1.951862399')\n",
      "('Epoch 0018', 'Cost 1.933135289')\n",
      "('Epoch 0019', 'Cost 1.915787216')\n",
      "('Epoch 0020', 'Cost 1.899956905')\n",
      "('Epoch 0021', 'Cost 1.885173302')\n",
      "('Epoch 0022', 'Cost 1.871003228')\n",
      "('Epoch 0023', 'Cost 1.858691159')\n",
      "('Epoch 0024', 'Cost 1.846383979')\n",
      "('Epoch 0025', 'Cost 1.834998352')\n",
      "('Epoch 0026', 'Cost 1.824794861')\n",
      "('Epoch 0027', 'Cost 1.814640647')\n",
      "('Epoch 0028', 'Cost 1.805115735')\n",
      "('Epoch 0029', 'Cost 1.796300278')\n",
      "('Epoch 0030', 'Cost 1.787887923')\n",
      "('Epoch 0031', 'Cost 1.779379847')\n",
      "('Epoch 0032', 'Cost 1.771990051')\n",
      "('Epoch 0033', 'Cost 1.764388408')\n",
      "('Epoch 0034', 'Cost 1.757229480')\n",
      "('Epoch 0035', 'Cost 1.750548384')\n",
      "('Epoch 0036', 'Cost 1.744132904')\n",
      "('Epoch 0037', 'Cost 1.737901156')\n",
      "('Epoch 0038', 'Cost 1.731668126')\n",
      "('Epoch 0039', 'Cost 1.726322159')\n",
      "('Epoch 0040', 'Cost 1.720734763')\n",
      "('Epoch 0041', 'Cost 1.715261888')\n",
      "('Epoch 0042', 'Cost 1.710446305')\n",
      "('Epoch 0043', 'Cost 1.705175094')\n",
      "('Epoch 0044', 'Cost 1.700402479')\n",
      "('Epoch 0045', 'Cost 1.695688402')\n",
      "('Epoch 0046', 'Cost 1.691413611')\n",
      "('Epoch 0047', 'Cost 1.686826689')\n",
      "('Epoch 0048', 'Cost 1.682678053')\n",
      "('Epoch 0049', 'Cost 1.678195325')\n",
      "('Epoch 0050', 'Cost 1.674886691')\n",
      "('Epoch 0051', 'Cost 1.670803607')\n",
      "('Epoch 0052', 'Cost 1.666812672')\n",
      "('Epoch 0053', 'Cost 1.663198936')\n",
      "('Epoch 0054', 'Cost 1.660017417')\n",
      "('Epoch 0055', 'Cost 1.656351544')\n",
      "('Epoch 0056', 'Cost 1.653119918')\n",
      "('Epoch 0057', 'Cost 1.649415358')\n",
      "('Epoch 0058', 'Cost 1.646582162')\n",
      "('Epoch 0059', 'Cost 1.643363548')\n",
      "('Epoch 0060', 'Cost 1.640356463')\n",
      "('Epoch 0061', 'Cost 1.637491887')\n",
      "('Epoch 0062', 'Cost 1.634256348')\n",
      "('Epoch 0063', 'Cost 1.631695283')\n",
      "('Epoch 0064', 'Cost 1.628838689')\n",
      "('Epoch 0065', 'Cost 1.626140686')\n",
      "('Epoch 0066', 'Cost 1.623280725')\n",
      "('Epoch 0067', 'Cost 1.620931239')\n",
      "('Epoch 0068', 'Cost 1.618494539')\n",
      "('Epoch 0069', 'Cost 1.615783884')\n",
      "('Epoch 0070', 'Cost 1.613556266')\n",
      "('Epoch 0071', 'Cost 1.611046970')\n",
      "('Epoch 0072', 'Cost 1.608807025')\n",
      "('Epoch 0073', 'Cost 1.606483911')\n",
      "('Epoch 0074', 'Cost 1.604067472')\n",
      "('Epoch 0075', 'Cost 1.601906457')\n",
      "('Epoch 0076', 'Cost 1.599859708')\n",
      "('Epoch 0077', 'Cost 1.597846105')\n",
      "('Epoch 0078', 'Cost 1.595815898')\n",
      "('Epoch 0079', 'Cost 1.593775829')\n",
      "('Epoch 0080', 'Cost 1.591659444')\n",
      "('Epoch 0081', 'Cost 1.589632401')\n",
      "('Epoch 0082', 'Cost 1.587632850')\n",
      "('Epoch 0083', 'Cost 1.585802429')\n",
      "('Epoch 0084', 'Cost 1.583902960')\n",
      "('Epoch 0085', 'Cost 1.581999516')\n",
      "('Epoch 0086', 'Cost 1.580228546')\n",
      "('Epoch 0087', 'Cost 1.578601631')\n",
      "('Epoch 0088', 'Cost 1.576777679')\n",
      "('Epoch 0089', 'Cost 1.575071517')\n",
      "('Epoch 0090', 'Cost 1.573255482')\n",
      "('Epoch 0091', 'Cost 1.571758432')\n",
      "('Epoch 0092', 'Cost 1.570017591')\n",
      "('Epoch 0093', 'Cost 1.568289911')\n",
      "('Epoch 0094', 'Cost 1.566718521')\n",
      "('Epoch 0095', 'Cost 1.565312440')\n",
      "('Epoch 0096', 'Cost 1.563689680')\n",
      "('Epoch 0097', 'Cost 1.561983584')\n",
      "('Epoch 0098', 'Cost 1.560618226')\n",
      "('Epoch 0099', 'Cost 1.559331568')\n",
      "('Epoch 0100', 'Cost 1.557554034')\n",
      "Finished!!!!\n",
      "0.9\n"
     ]
    }
   ],
   "source": [
    "with tf.Session() as sess:\n",
    "    sess.run(init)\n",
    "    for epoch in range(training_epochs):\n",
    "        avg_cost = 0.\n",
    "        train_batch = int(mnist.train.num_examples / batch_size)\n",
    "        for x in range(train_batch):\n",
    "            batch_X, batch_y = mnist.train.next_batch(batch_size)\n",
    "            _, c = sess.run([optimizer, cost], feed_dict={X:batch_X, y:batch_y})\n",
    "\n",
    "            avg_cost += c / batch_size\n",
    "\n",
    "        if (epoch + 1) % display_step == 0:\n",
    "            print('Epoch %04d' % (epoch + 1), 'Cost %.9f' % avg_cost)\n",
    "    print(\"Finished!!!!\")\n",
    "    \n",
    "    correction_predict = tf.equal(tf.arg_max(pred, 1), tf.arg_max(y, 1))\n",
    "    correct = tf.reduce_mean(tf.cast(correction_predict, tf.float32))\n",
    "    \n",
    "    print(correct.eval({X:mnist.test.images[:3000], y:mnist.test.labels[:3000]}))\n",
    "    "
   ]
  },
  {
   "cell_type": "code",
   "execution_count": null,
   "metadata": {},
   "outputs": [],
   "source": []
  }
 ],
 "metadata": {
  "kernelspec": {
   "display_name": "Python 3",
   "language": "python",
   "name": "python3"
  },
  "language_info": {
   "codemirror_mode": {
    "name": "ipython",
    "version": 2
   },
   "file_extension": ".py",
   "mimetype": "text/x-python",
   "name": "python",
   "nbconvert_exporter": "python",
   "pygments_lexer": "ipython2",
   "version": "2.7.14"
  }
 },
 "nbformat": 4,
 "nbformat_minor": 2
}
